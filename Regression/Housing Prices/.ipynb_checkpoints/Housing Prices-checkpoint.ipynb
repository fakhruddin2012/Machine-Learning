{
 "cells": [
  {
   "cell_type": "code",
   "execution_count": 1,
   "metadata": {},
   "outputs": [
    {
     "name": "stderr",
     "output_type": "stream",
     "text": [
      "C:\\Users\\Fakhruddin\\Anaconda3\\lib\\site-packages\\statsmodels\\tools\\_testing.py:19: FutureWarning: pandas.util.testing is deprecated. Use the functions in the public API at pandas.testing instead.\n",
      "  import pandas.util.testing as tm\n"
     ]
    }
   ],
   "source": [
    "import numpy as np\n",
    "import pandas as pd\n",
    "import matplotlib.pyplot as plt\n",
    "import seaborn as sns"
   ]
  },
  {
   "cell_type": "code",
   "execution_count": 2,
   "metadata": {},
   "outputs": [],
   "source": [
    "train=pd.read_csv('train.csv')\n",
    "test=pd.read_csv('test.csv')"
   ]
  },
  {
   "cell_type": "code",
   "execution_count": 3,
   "metadata": {},
   "outputs": [
    {
     "data": {
      "text/html": [
       "<div>\n",
       "<style scoped>\n",
       "    .dataframe tbody tr th:only-of-type {\n",
       "        vertical-align: middle;\n",
       "    }\n",
       "\n",
       "    .dataframe tbody tr th {\n",
       "        vertical-align: top;\n",
       "    }\n",
       "\n",
       "    .dataframe thead th {\n",
       "        text-align: right;\n",
       "    }\n",
       "</style>\n",
       "<table border=\"1\" class=\"dataframe\">\n",
       "  <thead>\n",
       "    <tr style=\"text-align: right;\">\n",
       "      <th></th>\n",
       "      <th>ExterQual</th>\n",
       "      <th>AllFlrsSF</th>\n",
       "      <th>GrLivArea</th>\n",
       "      <th>SimplOverallCond</th>\n",
       "      <th>GarageArea</th>\n",
       "      <th>TotRmsAbvGrd</th>\n",
       "      <th>LotFrontage</th>\n",
       "      <th>SalePrice</th>\n",
       "    </tr>\n",
       "  </thead>\n",
       "  <tbody>\n",
       "    <tr>\n",
       "      <th>0</th>\n",
       "      <td>4</td>\n",
       "      <td>1316</td>\n",
       "      <td>1316</td>\n",
       "      <td>2</td>\n",
       "      <td>397</td>\n",
       "      <td>6</td>\n",
       "      <td>65.0</td>\n",
       "      <td>169990</td>\n",
       "    </tr>\n",
       "    <tr>\n",
       "      <th>1</th>\n",
       "      <td>4</td>\n",
       "      <td>2028</td>\n",
       "      <td>2028</td>\n",
       "      <td>2</td>\n",
       "      <td>880</td>\n",
       "      <td>7</td>\n",
       "      <td>88.0</td>\n",
       "      <td>369900</td>\n",
       "    </tr>\n",
       "    <tr>\n",
       "      <th>2</th>\n",
       "      <td>3</td>\n",
       "      <td>1072</td>\n",
       "      <td>1072</td>\n",
       "      <td>2</td>\n",
       "      <td>525</td>\n",
       "      <td>5</td>\n",
       "      <td>35.0</td>\n",
       "      <td>140000</td>\n",
       "    </tr>\n",
       "    <tr>\n",
       "      <th>3</th>\n",
       "      <td>3</td>\n",
       "      <td>1048</td>\n",
       "      <td>1048</td>\n",
       "      <td>2</td>\n",
       "      <td>286</td>\n",
       "      <td>6</td>\n",
       "      <td>72.0</td>\n",
       "      <td>135000</td>\n",
       "    </tr>\n",
       "    <tr>\n",
       "      <th>4</th>\n",
       "      <td>3</td>\n",
       "      <td>1779</td>\n",
       "      <td>1779</td>\n",
       "      <td>2</td>\n",
       "      <td>546</td>\n",
       "      <td>6</td>\n",
       "      <td>80.0</td>\n",
       "      <td>197900</td>\n",
       "    </tr>\n",
       "  </tbody>\n",
       "</table>\n",
       "</div>"
      ],
      "text/plain": [
       "   ExterQual  AllFlrsSF  GrLivArea  SimplOverallCond  GarageArea  \\\n",
       "0          4       1316       1316                 2         397   \n",
       "1          4       2028       2028                 2         880   \n",
       "2          3       1072       1072                 2         525   \n",
       "3          3       1048       1048                 2         286   \n",
       "4          3       1779       1779                 2         546   \n",
       "\n",
       "   TotRmsAbvGrd  LotFrontage  SalePrice  \n",
       "0             6         65.0     169990  \n",
       "1             7         88.0     369900  \n",
       "2             5         35.0     140000  \n",
       "3             6         72.0     135000  \n",
       "4             6         80.0     197900  "
      ]
     },
     "execution_count": 3,
     "metadata": {},
     "output_type": "execute_result"
    }
   ],
   "source": [
    "train.head()"
   ]
  },
  {
   "cell_type": "code",
   "execution_count": 4,
   "metadata": {},
   "outputs": [
    {
     "data": {
      "text/plain": [
       "(1092, 8)"
      ]
     },
     "execution_count": 4,
     "metadata": {},
     "output_type": "execute_result"
    }
   ],
   "source": [
    "train.shape"
   ]
  },
  {
   "cell_type": "code",
   "execution_count": 5,
   "metadata": {},
   "outputs": [
    {
     "data": {
      "text/html": [
       "<div>\n",
       "<style scoped>\n",
       "    .dataframe tbody tr th:only-of-type {\n",
       "        vertical-align: middle;\n",
       "    }\n",
       "\n",
       "    .dataframe tbody tr th {\n",
       "        vertical-align: top;\n",
       "    }\n",
       "\n",
       "    .dataframe thead th {\n",
       "        text-align: right;\n",
       "    }\n",
       "</style>\n",
       "<table border=\"1\" class=\"dataframe\">\n",
       "  <thead>\n",
       "    <tr style=\"text-align: right;\">\n",
       "      <th></th>\n",
       "      <th>ExterQual</th>\n",
       "      <th>AllFlrsSF</th>\n",
       "      <th>GrLivArea</th>\n",
       "      <th>SimplOverallCond</th>\n",
       "      <th>GarageArea</th>\n",
       "      <th>TotRmsAbvGrd</th>\n",
       "      <th>LotFrontage</th>\n",
       "      <th>SalePrice</th>\n",
       "    </tr>\n",
       "  </thead>\n",
       "  <tbody>\n",
       "    <tr>\n",
       "      <th>0</th>\n",
       "      <td>3</td>\n",
       "      <td>1839</td>\n",
       "      <td>1839</td>\n",
       "      <td>3</td>\n",
       "      <td>416</td>\n",
       "      <td>7</td>\n",
       "      <td>110.0</td>\n",
       "      <td>257500</td>\n",
       "    </tr>\n",
       "    <tr>\n",
       "      <th>1</th>\n",
       "      <td>3</td>\n",
       "      <td>2126</td>\n",
       "      <td>2126</td>\n",
       "      <td>2</td>\n",
       "      <td>538</td>\n",
       "      <td>7</td>\n",
       "      <td>0.0</td>\n",
       "      <td>185000</td>\n",
       "    </tr>\n",
       "    <tr>\n",
       "      <th>2</th>\n",
       "      <td>4</td>\n",
       "      <td>1709</td>\n",
       "      <td>1709</td>\n",
       "      <td>2</td>\n",
       "      <td>380</td>\n",
       "      <td>7</td>\n",
       "      <td>24.0</td>\n",
       "      <td>130000</td>\n",
       "    </tr>\n",
       "    <tr>\n",
       "      <th>3</th>\n",
       "      <td>3</td>\n",
       "      <td>1902</td>\n",
       "      <td>1902</td>\n",
       "      <td>2</td>\n",
       "      <td>539</td>\n",
       "      <td>8</td>\n",
       "      <td>68.0</td>\n",
       "      <td>112000</td>\n",
       "    </tr>\n",
       "    <tr>\n",
       "      <th>4</th>\n",
       "      <td>3</td>\n",
       "      <td>1072</td>\n",
       "      <td>1072</td>\n",
       "      <td>2</td>\n",
       "      <td>525</td>\n",
       "      <td>5</td>\n",
       "      <td>35.0</td>\n",
       "      <td>148000</td>\n",
       "    </tr>\n",
       "  </tbody>\n",
       "</table>\n",
       "</div>"
      ],
      "text/plain": [
       "   ExterQual  AllFlrsSF  GrLivArea  SimplOverallCond  GarageArea  \\\n",
       "0          3       1839       1839                 3         416   \n",
       "1          3       2126       2126                 2         538   \n",
       "2          4       1709       1709                 2         380   \n",
       "3          3       1902       1902                 2         539   \n",
       "4          3       1072       1072                 2         525   \n",
       "\n",
       "   TotRmsAbvGrd  LotFrontage  SalePrice  \n",
       "0             7        110.0     257500  \n",
       "1             7          0.0     185000  \n",
       "2             7         24.0     130000  \n",
       "3             8         68.0     112000  \n",
       "4             5         35.0     148000  "
      ]
     },
     "execution_count": 5,
     "metadata": {},
     "output_type": "execute_result"
    }
   ],
   "source": [
    "test.head()"
   ]
  },
  {
   "cell_type": "code",
   "execution_count": 6,
   "metadata": {},
   "outputs": [
    {
     "data": {
      "text/plain": [
       "(292, 8)"
      ]
     },
     "execution_count": 6,
     "metadata": {},
     "output_type": "execute_result"
    }
   ],
   "source": [
    "test.shape"
   ]
  },
  {
   "cell_type": "code",
   "execution_count": 7,
   "metadata": {},
   "outputs": [
    {
     "name": "stdout",
     "output_type": "stream",
     "text": [
      "     ExterQual  AllFlrsSF  GrLivArea  SimplOverallCond  GarageArea  \\\n",
      "0            3       1839       1839                 3         416   \n",
      "1            3       2126       2126                 2         538   \n",
      "2            4       1709       1709                 2         380   \n",
      "3            3       1902       1902                 2         539   \n",
      "4            3       1072       1072                 2         525   \n",
      "..         ...        ...        ...               ...         ...   \n",
      "287          4       2868       2868                 2         716   \n",
      "288          5       1414       1414                 3         601   \n",
      "289          4       1456       1456                 2         429   \n",
      "290          4       1502       1502                 2         644   \n",
      "291          3        864        864                 2         360   \n",
      "\n",
      "     TotRmsAbvGrd  LotFrontage  \n",
      "0               7        110.0  \n",
      "1               7          0.0  \n",
      "2               7         24.0  \n",
      "3               8         68.0  \n",
      "4               5         35.0  \n",
      "..            ...          ...  \n",
      "287            11         85.0  \n",
      "288             6         87.0  \n",
      "289             8        105.0  \n",
      "290             7         79.0  \n",
      "291             5         60.0  \n",
      "\n",
      "[292 rows x 7 columns]       ExterQual  AllFlrsSF  GrLivArea  SimplOverallCond  GarageArea  \\\n",
      "0             4       1316       1316                 2         397   \n",
      "1             4       2028       2028                 2         880   \n",
      "2             3       1072       1072                 2         525   \n",
      "3             3       1048       1048                 2         286   \n",
      "4             3       1779       1779                 2         546   \n",
      "...         ...        ...        ...               ...         ...   \n",
      "1087          3       1277       1277                 2         526   \n",
      "1088          3       1152       1152                 3         300   \n",
      "1089          3       1269       1269                 2         308   \n",
      "1090          3        605        605                 3           0   \n",
      "1091          3       1456       1456                 2         400   \n",
      "\n",
      "      TotRmsAbvGrd  LotFrontage  \n",
      "0                6         65.0  \n",
      "1                7         88.0  \n",
      "2                5         35.0  \n",
      "3                6         72.0  \n",
      "4                6         80.0  \n",
      "...            ...          ...  \n",
      "1087             5         85.0  \n",
      "1088             6         80.0  \n",
      "1089             6         70.0  \n",
      "1090             5         58.0  \n",
      "1091             8         51.0  \n",
      "\n",
      "[1092 rows x 7 columns]\n"
     ]
    }
   ],
   "source": [
    "y_train=train.SalePrice\n",
    "X_train=train.drop('SalePrice',axis=1)\n",
    "y_test=test.SalePrice\n",
    "X_test=test.drop('SalePrice',axis=1)\n",
    "print(X_test,X_train)"
   ]
  },
  {
   "cell_type": "code",
   "execution_count": 8,
   "metadata": {},
   "outputs": [
    {
     "data": {
      "text/plain": [
       "(1092, 7)"
      ]
     },
     "execution_count": 8,
     "metadata": {},
     "output_type": "execute_result"
    }
   ],
   "source": [
    "X_train.shape"
   ]
  },
  {
   "cell_type": "code",
   "execution_count": 9,
   "metadata": {},
   "outputs": [
    {
     "data": {
      "text/plain": [
       "(292, 7)"
      ]
     },
     "execution_count": 9,
     "metadata": {},
     "output_type": "execute_result"
    }
   ],
   "source": [
    "X_test.shape"
   ]
  },
  {
   "cell_type": "code",
   "execution_count": 10,
   "metadata": {},
   "outputs": [
    {
     "data": {
      "text/plain": [
       "0       169990\n",
       "1       369900\n",
       "2       140000\n",
       "3       135000\n",
       "4       197900\n",
       "         ...  \n",
       "1087    167000\n",
       "1088    158500\n",
       "1089    155000\n",
       "1090     86000\n",
       "1091    176000\n",
       "Name: SalePrice, Length: 1092, dtype: int64"
      ]
     },
     "execution_count": 10,
     "metadata": {},
     "output_type": "execute_result"
    }
   ],
   "source": [
    "y_train"
   ]
  },
  {
   "cell_type": "code",
   "execution_count": 11,
   "metadata": {},
   "outputs": [],
   "source": [
    "from sklearn.linear_model import LinearRegression"
   ]
  },
  {
   "cell_type": "code",
   "execution_count": 18,
   "metadata": {},
   "outputs": [],
   "source": [
    "# instantiate linear regression model\n",
    "linreg = LinearRegression()"
   ]
  },
  {
   "cell_type": "code",
   "execution_count": 19,
   "metadata": {},
   "outputs": [
    {
     "data": {
      "text/plain": [
       "LinearRegression(copy_X=True, fit_intercept=True, n_jobs=None, normalize=False)"
      ]
     },
     "execution_count": 19,
     "metadata": {},
     "output_type": "execute_result"
    }
   ],
   "source": [
    "# fit model on training data\n",
    "linreg.fit(X_train, np.log(y_train))"
   ]
  },
  {
   "cell_type": "code",
   "execution_count": 20,
   "metadata": {},
   "outputs": [],
   "source": [
    "# make predictions on test data\n",
    "y_pred = linreg.predict(X_test)"
   ]
  },
  {
   "cell_type": "code",
   "execution_count": 21,
   "metadata": {},
   "outputs": [
    {
     "data": {
      "text/plain": [
       "array([12.11227082, 12.19875709, 12.17873549, 12.09451926, 11.79496421,\n",
       "       11.62810742, 12.23094302, 11.66779875, 12.83933008, 11.42802489])"
      ]
     },
     "execution_count": 21,
     "metadata": {},
     "output_type": "execute_result"
    }
   ],
   "source": [
    "y_pred[:10]"
   ]
  },
  {
   "cell_type": "code",
   "execution_count": 22,
   "metadata": {},
   "outputs": [],
   "source": [
    "from sklearn.metrics import mean_absolute_error"
   ]
  },
  {
   "cell_type": "code",
   "execution_count": 24,
   "metadata": {},
   "outputs": [
    {
     "data": {
      "text/plain": [
       "array([182092.63418362, 198542.22728524, 194606.6236048 , 178888.72746131,\n",
       "       132583.0090395 , 112207.75818254, 205036.44464953, 116751.00081422,\n",
       "       376747.3483181 ,  91860.36123146])"
      ]
     },
     "execution_count": 24,
     "metadata": {},
     "output_type": "execute_result"
    }
   ],
   "source": [
    "np.exp(y_pred)[:10]"
   ]
  },
  {
   "cell_type": "code",
   "execution_count": 25,
   "metadata": {},
   "outputs": [],
   "source": [
    "# MAE calculation\n",
    "mae=mean_absolute_error(y_test,np.exp(y_pred))"
   ]
  },
  {
   "cell_type": "code",
   "execution_count": 26,
   "metadata": {},
   "outputs": [
    {
     "name": "stdout",
     "output_type": "stream",
     "text": [
      "29158.295036636515\n"
     ]
    }
   ],
   "source": [
    "print(mae)"
   ]
  },
  {
   "cell_type": "code",
   "execution_count": 27,
   "metadata": {},
   "outputs": [],
   "source": [
    "from sklearn.metrics import mean_squared_error"
   ]
  },
  {
   "cell_type": "code",
   "execution_count": 30,
   "metadata": {},
   "outputs": [
    {
     "name": "stdout",
     "output_type": "stream",
     "text": [
      "42842.87\n"
     ]
    }
   ],
   "source": [
    "rmse=np.sqrt(mean_squared_error(y_test,np.exp(y_pred)))\n",
    "\n",
    "print(np.round(rmse,2))"
   ]
  },
  {
   "cell_type": "code",
   "execution_count": 31,
   "metadata": {},
   "outputs": [],
   "source": [
    "from sklearn.metrics import r2_score"
   ]
  },
  {
   "cell_type": "code",
   "execution_count": 32,
   "metadata": {},
   "outputs": [
    {
     "name": "stdout",
     "output_type": "stream",
     "text": [
      "0.7378446924962254\n"
     ]
    }
   ],
   "source": [
    "rsquared = r2_score(y_test, np.exp(y_pred))\n",
    "print(rsquared)"
   ]
  },
  {
   "cell_type": "code",
   "execution_count": null,
   "metadata": {},
   "outputs": [],
   "source": []
  }
 ],
 "metadata": {
  "kernelspec": {
   "display_name": "Python 3",
   "language": "python",
   "name": "python3"
  },
  "language_info": {
   "codemirror_mode": {
    "name": "ipython",
    "version": 3
   },
   "file_extension": ".py",
   "mimetype": "text/x-python",
   "name": "python",
   "nbconvert_exporter": "python",
   "pygments_lexer": "ipython3",
   "version": "3.7.3"
  }
 },
 "nbformat": 4,
 "nbformat_minor": 2
}
