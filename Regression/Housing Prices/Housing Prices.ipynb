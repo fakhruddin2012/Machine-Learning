{
 "cells": [
  {
   "cell_type": "code",
   "execution_count": 1,
   "metadata": {},
   "outputs": [
    {
     "name": "stderr",
     "output_type": "stream",
     "text": [
      "C:\\Users\\Fakhruddin\\Anaconda3\\lib\\site-packages\\statsmodels\\tools\\_testing.py:19: FutureWarning: pandas.util.testing is deprecated. Use the functions in the public API at pandas.testing instead.\n",
      "  import pandas.util.testing as tm\n"
     ]
    }
   ],
   "source": [
    "import numpy as np\n",
    "import pandas as pd\n",
    "import matplotlib.pyplot as plt\n",
    "import seaborn as sns"
   ]
  },
  {
   "cell_type": "code",
   "execution_count": 2,
   "metadata": {},
   "outputs": [],
   "source": [
    "train=pd.read_csv('train.csv')\n",
    "test=pd.read_csv('test.csv')"
   ]
  },
  {
   "cell_type": "code",
   "execution_count": 3,
   "metadata": {},
   "outputs": [
    {
     "data": {
      "text/html": [
       "<div>\n",
       "<style scoped>\n",
       "    .dataframe tbody tr th:only-of-type {\n",
       "        vertical-align: middle;\n",
       "    }\n",
       "\n",
       "    .dataframe tbody tr th {\n",
       "        vertical-align: top;\n",
       "    }\n",
       "\n",
       "    .dataframe thead th {\n",
       "        text-align: right;\n",
       "    }\n",
       "</style>\n",
       "<table border=\"1\" class=\"dataframe\">\n",
       "  <thead>\n",
       "    <tr style=\"text-align: right;\">\n",
       "      <th></th>\n",
       "      <th>ExterQual</th>\n",
       "      <th>AllFlrsSF</th>\n",
       "      <th>GrLivArea</th>\n",
       "      <th>SimplOverallCond</th>\n",
       "      <th>GarageArea</th>\n",
       "      <th>TotRmsAbvGrd</th>\n",
       "      <th>LotFrontage</th>\n",
       "      <th>SalePrice</th>\n",
       "    </tr>\n",
       "  </thead>\n",
       "  <tbody>\n",
       "    <tr>\n",
       "      <th>0</th>\n",
       "      <td>4</td>\n",
       "      <td>1316</td>\n",
       "      <td>1316</td>\n",
       "      <td>2</td>\n",
       "      <td>397</td>\n",
       "      <td>6</td>\n",
       "      <td>65.0</td>\n",
       "      <td>169990</td>\n",
       "    </tr>\n",
       "    <tr>\n",
       "      <th>1</th>\n",
       "      <td>4</td>\n",
       "      <td>2028</td>\n",
       "      <td>2028</td>\n",
       "      <td>2</td>\n",
       "      <td>880</td>\n",
       "      <td>7</td>\n",
       "      <td>88.0</td>\n",
       "      <td>369900</td>\n",
       "    </tr>\n",
       "    <tr>\n",
       "      <th>2</th>\n",
       "      <td>3</td>\n",
       "      <td>1072</td>\n",
       "      <td>1072</td>\n",
       "      <td>2</td>\n",
       "      <td>525</td>\n",
       "      <td>5</td>\n",
       "      <td>35.0</td>\n",
       "      <td>140000</td>\n",
       "    </tr>\n",
       "    <tr>\n",
       "      <th>3</th>\n",
       "      <td>3</td>\n",
       "      <td>1048</td>\n",
       "      <td>1048</td>\n",
       "      <td>2</td>\n",
       "      <td>286</td>\n",
       "      <td>6</td>\n",
       "      <td>72.0</td>\n",
       "      <td>135000</td>\n",
       "    </tr>\n",
       "    <tr>\n",
       "      <th>4</th>\n",
       "      <td>3</td>\n",
       "      <td>1779</td>\n",
       "      <td>1779</td>\n",
       "      <td>2</td>\n",
       "      <td>546</td>\n",
       "      <td>6</td>\n",
       "      <td>80.0</td>\n",
       "      <td>197900</td>\n",
       "    </tr>\n",
       "  </tbody>\n",
       "</table>\n",
       "</div>"
      ],
      "text/plain": [
       "   ExterQual  AllFlrsSF  GrLivArea  SimplOverallCond  GarageArea  \\\n",
       "0          4       1316       1316                 2         397   \n",
       "1          4       2028       2028                 2         880   \n",
       "2          3       1072       1072                 2         525   \n",
       "3          3       1048       1048                 2         286   \n",
       "4          3       1779       1779                 2         546   \n",
       "\n",
       "   TotRmsAbvGrd  LotFrontage  SalePrice  \n",
       "0             6         65.0     169990  \n",
       "1             7         88.0     369900  \n",
       "2             5         35.0     140000  \n",
       "3             6         72.0     135000  \n",
       "4             6         80.0     197900  "
      ]
     },
     "execution_count": 3,
     "metadata": {},
     "output_type": "execute_result"
    }
   ],
   "source": [
    "train.head()"
   ]
  },
  {
   "cell_type": "code",
   "execution_count": 4,
   "metadata": {},
   "outputs": [
    {
     "data": {
      "text/plain": [
       "(1092, 8)"
      ]
     },
     "execution_count": 4,
     "metadata": {},
     "output_type": "execute_result"
    }
   ],
   "source": [
    "train.shape"
   ]
  },
  {
   "cell_type": "code",
   "execution_count": 5,
   "metadata": {},
   "outputs": [
    {
     "data": {
      "text/html": [
       "<div>\n",
       "<style scoped>\n",
       "    .dataframe tbody tr th:only-of-type {\n",
       "        vertical-align: middle;\n",
       "    }\n",
       "\n",
       "    .dataframe tbody tr th {\n",
       "        vertical-align: top;\n",
       "    }\n",
       "\n",
       "    .dataframe thead th {\n",
       "        text-align: right;\n",
       "    }\n",
       "</style>\n",
       "<table border=\"1\" class=\"dataframe\">\n",
       "  <thead>\n",
       "    <tr style=\"text-align: right;\">\n",
       "      <th></th>\n",
       "      <th>ExterQual</th>\n",
       "      <th>AllFlrsSF</th>\n",
       "      <th>GrLivArea</th>\n",
       "      <th>SimplOverallCond</th>\n",
       "      <th>GarageArea</th>\n",
       "      <th>TotRmsAbvGrd</th>\n",
       "      <th>LotFrontage</th>\n",
       "      <th>SalePrice</th>\n",
       "    </tr>\n",
       "  </thead>\n",
       "  <tbody>\n",
       "    <tr>\n",
       "      <th>0</th>\n",
       "      <td>3</td>\n",
       "      <td>1839</td>\n",
       "      <td>1839</td>\n",
       "      <td>3</td>\n",
       "      <td>416</td>\n",
       "      <td>7</td>\n",
       "      <td>110.0</td>\n",
       "      <td>257500</td>\n",
       "    </tr>\n",
       "    <tr>\n",
       "      <th>1</th>\n",
       "      <td>3</td>\n",
       "      <td>2126</td>\n",
       "      <td>2126</td>\n",
       "      <td>2</td>\n",
       "      <td>538</td>\n",
       "      <td>7</td>\n",
       "      <td>0.0</td>\n",
       "      <td>185000</td>\n",
       "    </tr>\n",
       "    <tr>\n",
       "      <th>2</th>\n",
       "      <td>4</td>\n",
       "      <td>1709</td>\n",
       "      <td>1709</td>\n",
       "      <td>2</td>\n",
       "      <td>380</td>\n",
       "      <td>7</td>\n",
       "      <td>24.0</td>\n",
       "      <td>130000</td>\n",
       "    </tr>\n",
       "    <tr>\n",
       "      <th>3</th>\n",
       "      <td>3</td>\n",
       "      <td>1902</td>\n",
       "      <td>1902</td>\n",
       "      <td>2</td>\n",
       "      <td>539</td>\n",
       "      <td>8</td>\n",
       "      <td>68.0</td>\n",
       "      <td>112000</td>\n",
       "    </tr>\n",
       "    <tr>\n",
       "      <th>4</th>\n",
       "      <td>3</td>\n",
       "      <td>1072</td>\n",
       "      <td>1072</td>\n",
       "      <td>2</td>\n",
       "      <td>525</td>\n",
       "      <td>5</td>\n",
       "      <td>35.0</td>\n",
       "      <td>148000</td>\n",
       "    </tr>\n",
       "  </tbody>\n",
       "</table>\n",
       "</div>"
      ],
      "text/plain": [
       "   ExterQual  AllFlrsSF  GrLivArea  SimplOverallCond  GarageArea  \\\n",
       "0          3       1839       1839                 3         416   \n",
       "1          3       2126       2126                 2         538   \n",
       "2          4       1709       1709                 2         380   \n",
       "3          3       1902       1902                 2         539   \n",
       "4          3       1072       1072                 2         525   \n",
       "\n",
       "   TotRmsAbvGrd  LotFrontage  SalePrice  \n",
       "0             7        110.0     257500  \n",
       "1             7          0.0     185000  \n",
       "2             7         24.0     130000  \n",
       "3             8         68.0     112000  \n",
       "4             5         35.0     148000  "
      ]
     },
     "execution_count": 5,
     "metadata": {},
     "output_type": "execute_result"
    }
   ],
   "source": [
    "test.head()"
   ]
  },
  {
   "cell_type": "code",
   "execution_count": 6,
   "metadata": {},
   "outputs": [
    {
     "data": {
      "text/plain": [
       "(292, 8)"
      ]
     },
     "execution_count": 6,
     "metadata": {},
     "output_type": "execute_result"
    }
   ],
   "source": [
    "test.shape"
   ]
  },
  {
   "cell_type": "code",
   "execution_count": null,
   "metadata": {},
   "outputs": [],
   "source": []
  }
 ],
 "metadata": {
  "kernelspec": {
   "display_name": "Python 3",
   "language": "python",
   "name": "python3"
  },
  "language_info": {
   "codemirror_mode": {
    "name": "ipython",
    "version": 3
   },
   "file_extension": ".py",
   "mimetype": "text/x-python",
   "name": "python",
   "nbconvert_exporter": "python",
   "pygments_lexer": "ipython3",
   "version": "3.7.3"
  }
 },
 "nbformat": 4,
 "nbformat_minor": 2
}
