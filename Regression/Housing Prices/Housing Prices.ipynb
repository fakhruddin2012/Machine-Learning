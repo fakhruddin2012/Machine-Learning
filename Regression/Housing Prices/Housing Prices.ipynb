{
 "cells": [
  {
   "cell_type": "code",
   "execution_count": 1,
   "metadata": {},
   "outputs": [
    {
     "name": "stderr",
     "output_type": "stream",
     "text": [
      "C:\\Users\\Fakhruddin\\Anaconda3\\lib\\site-packages\\statsmodels\\tools\\_testing.py:19: FutureWarning: pandas.util.testing is deprecated. Use the functions in the public API at pandas.testing instead.\n",
      "  import pandas.util.testing as tm\n"
     ]
    }
   ],
   "source": [
    "import numpy as np\n",
    "import pandas as pd\n",
    "import matplotlib.pyplot as plt\n",
    "import seaborn as sns"
   ]
  },
  {
   "cell_type": "code",
   "execution_count": 2,
   "metadata": {},
   "outputs": [],
   "source": [
    "train=pd.read_csv('train.csv')\n",
    "test=pd.read_csv('test.csv')"
   ]
  },
  {
   "cell_type": "code",
   "execution_count": 3,
   "metadata": {},
   "outputs": [
    {
     "data": {
      "text/html": [
       "<div>\n",
       "<style scoped>\n",
       "    .dataframe tbody tr th:only-of-type {\n",
       "        vertical-align: middle;\n",
       "    }\n",
       "\n",
       "    .dataframe tbody tr th {\n",
       "        vertical-align: top;\n",
       "    }\n",
       "\n",
       "    .dataframe thead th {\n",
       "        text-align: right;\n",
       "    }\n",
       "</style>\n",
       "<table border=\"1\" class=\"dataframe\">\n",
       "  <thead>\n",
       "    <tr style=\"text-align: right;\">\n",
       "      <th></th>\n",
       "      <th>ExterQual</th>\n",
       "      <th>AllFlrsSF</th>\n",
       "      <th>GrLivArea</th>\n",
       "      <th>SimplOverallCond</th>\n",
       "      <th>GarageArea</th>\n",
       "      <th>TotRmsAbvGrd</th>\n",
       "      <th>LotFrontage</th>\n",
       "      <th>SalePrice</th>\n",
       "    </tr>\n",
       "  </thead>\n",
       "  <tbody>\n",
       "    <tr>\n",
       "      <th>0</th>\n",
       "      <td>4</td>\n",
       "      <td>1316</td>\n",
       "      <td>1316</td>\n",
       "      <td>2</td>\n",
       "      <td>397</td>\n",
       "      <td>6</td>\n",
       "      <td>65.0</td>\n",
       "      <td>169990</td>\n",
       "    </tr>\n",
       "    <tr>\n",
       "      <th>1</th>\n",
       "      <td>4</td>\n",
       "      <td>2028</td>\n",
       "      <td>2028</td>\n",
       "      <td>2</td>\n",
       "      <td>880</td>\n",
       "      <td>7</td>\n",
       "      <td>88.0</td>\n",
       "      <td>369900</td>\n",
       "    </tr>\n",
       "    <tr>\n",
       "      <th>2</th>\n",
       "      <td>3</td>\n",
       "      <td>1072</td>\n",
       "      <td>1072</td>\n",
       "      <td>2</td>\n",
       "      <td>525</td>\n",
       "      <td>5</td>\n",
       "      <td>35.0</td>\n",
       "      <td>140000</td>\n",
       "    </tr>\n",
       "    <tr>\n",
       "      <th>3</th>\n",
       "      <td>3</td>\n",
       "      <td>1048</td>\n",
       "      <td>1048</td>\n",
       "      <td>2</td>\n",
       "      <td>286</td>\n",
       "      <td>6</td>\n",
       "      <td>72.0</td>\n",
       "      <td>135000</td>\n",
       "    </tr>\n",
       "    <tr>\n",
       "      <th>4</th>\n",
       "      <td>3</td>\n",
       "      <td>1779</td>\n",
       "      <td>1779</td>\n",
       "      <td>2</td>\n",
       "      <td>546</td>\n",
       "      <td>6</td>\n",
       "      <td>80.0</td>\n",
       "      <td>197900</td>\n",
       "    </tr>\n",
       "  </tbody>\n",
       "</table>\n",
       "</div>"
      ],
      "text/plain": [
       "   ExterQual  AllFlrsSF  GrLivArea  SimplOverallCond  GarageArea  \\\n",
       "0          4       1316       1316                 2         397   \n",
       "1          4       2028       2028                 2         880   \n",
       "2          3       1072       1072                 2         525   \n",
       "3          3       1048       1048                 2         286   \n",
       "4          3       1779       1779                 2         546   \n",
       "\n",
       "   TotRmsAbvGrd  LotFrontage  SalePrice  \n",
       "0             6         65.0     169990  \n",
       "1             7         88.0     369900  \n",
       "2             5         35.0     140000  \n",
       "3             6         72.0     135000  \n",
       "4             6         80.0     197900  "
      ]
     },
     "execution_count": 3,
     "metadata": {},
     "output_type": "execute_result"
    }
   ],
   "source": [
    "train.head()"
   ]
  },
  {
   "cell_type": "code",
   "execution_count": 4,
   "metadata": {},
   "outputs": [
    {
     "data": {
      "text/plain": [
       "(1092, 8)"
      ]
     },
     "execution_count": 4,
     "metadata": {},
     "output_type": "execute_result"
    }
   ],
   "source": [
    "train.shape"
   ]
  },
  {
   "cell_type": "code",
   "execution_count": 5,
   "metadata": {},
   "outputs": [
    {
     "data": {
      "text/html": [
       "<div>\n",
       "<style scoped>\n",
       "    .dataframe tbody tr th:only-of-type {\n",
       "        vertical-align: middle;\n",
       "    }\n",
       "\n",
       "    .dataframe tbody tr th {\n",
       "        vertical-align: top;\n",
       "    }\n",
       "\n",
       "    .dataframe thead th {\n",
       "        text-align: right;\n",
       "    }\n",
       "</style>\n",
       "<table border=\"1\" class=\"dataframe\">\n",
       "  <thead>\n",
       "    <tr style=\"text-align: right;\">\n",
       "      <th></th>\n",
       "      <th>ExterQual</th>\n",
       "      <th>AllFlrsSF</th>\n",
       "      <th>GrLivArea</th>\n",
       "      <th>SimplOverallCond</th>\n",
       "      <th>GarageArea</th>\n",
       "      <th>TotRmsAbvGrd</th>\n",
       "      <th>LotFrontage</th>\n",
       "      <th>SalePrice</th>\n",
       "    </tr>\n",
       "  </thead>\n",
       "  <tbody>\n",
       "    <tr>\n",
       "      <th>0</th>\n",
       "      <td>3</td>\n",
       "      <td>1839</td>\n",
       "      <td>1839</td>\n",
       "      <td>3</td>\n",
       "      <td>416</td>\n",
       "      <td>7</td>\n",
       "      <td>110.0</td>\n",
       "      <td>257500</td>\n",
       "    </tr>\n",
       "    <tr>\n",
       "      <th>1</th>\n",
       "      <td>3</td>\n",
       "      <td>2126</td>\n",
       "      <td>2126</td>\n",
       "      <td>2</td>\n",
       "      <td>538</td>\n",
       "      <td>7</td>\n",
       "      <td>0.0</td>\n",
       "      <td>185000</td>\n",
       "    </tr>\n",
       "    <tr>\n",
       "      <th>2</th>\n",
       "      <td>4</td>\n",
       "      <td>1709</td>\n",
       "      <td>1709</td>\n",
       "      <td>2</td>\n",
       "      <td>380</td>\n",
       "      <td>7</td>\n",
       "      <td>24.0</td>\n",
       "      <td>130000</td>\n",
       "    </tr>\n",
       "    <tr>\n",
       "      <th>3</th>\n",
       "      <td>3</td>\n",
       "      <td>1902</td>\n",
       "      <td>1902</td>\n",
       "      <td>2</td>\n",
       "      <td>539</td>\n",
       "      <td>8</td>\n",
       "      <td>68.0</td>\n",
       "      <td>112000</td>\n",
       "    </tr>\n",
       "    <tr>\n",
       "      <th>4</th>\n",
       "      <td>3</td>\n",
       "      <td>1072</td>\n",
       "      <td>1072</td>\n",
       "      <td>2</td>\n",
       "      <td>525</td>\n",
       "      <td>5</td>\n",
       "      <td>35.0</td>\n",
       "      <td>148000</td>\n",
       "    </tr>\n",
       "  </tbody>\n",
       "</table>\n",
       "</div>"
      ],
      "text/plain": [
       "   ExterQual  AllFlrsSF  GrLivArea  SimplOverallCond  GarageArea  \\\n",
       "0          3       1839       1839                 3         416   \n",
       "1          3       2126       2126                 2         538   \n",
       "2          4       1709       1709                 2         380   \n",
       "3          3       1902       1902                 2         539   \n",
       "4          3       1072       1072                 2         525   \n",
       "\n",
       "   TotRmsAbvGrd  LotFrontage  SalePrice  \n",
       "0             7        110.0     257500  \n",
       "1             7          0.0     185000  \n",
       "2             7         24.0     130000  \n",
       "3             8         68.0     112000  \n",
       "4             5         35.0     148000  "
      ]
     },
     "execution_count": 5,
     "metadata": {},
     "output_type": "execute_result"
    }
   ],
   "source": [
    "test.head()"
   ]
  },
  {
   "cell_type": "code",
   "execution_count": 6,
   "metadata": {},
   "outputs": [
    {
     "data": {
      "text/plain": [
       "(292, 8)"
      ]
     },
     "execution_count": 6,
     "metadata": {},
     "output_type": "execute_result"
    }
   ],
   "source": [
    "test.shape"
   ]
  },
  {
   "cell_type": "code",
   "execution_count": 7,
   "metadata": {},
   "outputs": [
    {
     "name": "stdout",
     "output_type": "stream",
     "text": [
      "     ExterQual  AllFlrsSF  GrLivArea  SimplOverallCond  GarageArea  \\\n",
      "0            3       1839       1839                 3         416   \n",
      "1            3       2126       2126                 2         538   \n",
      "2            4       1709       1709                 2         380   \n",
      "3            3       1902       1902                 2         539   \n",
      "4            3       1072       1072                 2         525   \n",
      "..         ...        ...        ...               ...         ...   \n",
      "287          4       2868       2868                 2         716   \n",
      "288          5       1414       1414                 3         601   \n",
      "289          4       1456       1456                 2         429   \n",
      "290          4       1502       1502                 2         644   \n",
      "291          3        864        864                 2         360   \n",
      "\n",
      "     TotRmsAbvGrd  LotFrontage  \n",
      "0               7        110.0  \n",
      "1               7          0.0  \n",
      "2               7         24.0  \n",
      "3               8         68.0  \n",
      "4               5         35.0  \n",
      "..            ...          ...  \n",
      "287            11         85.0  \n",
      "288             6         87.0  \n",
      "289             8        105.0  \n",
      "290             7         79.0  \n",
      "291             5         60.0  \n",
      "\n",
      "[292 rows x 7 columns]       ExterQual  AllFlrsSF  GrLivArea  SimplOverallCond  GarageArea  \\\n",
      "0             4       1316       1316                 2         397   \n",
      "1             4       2028       2028                 2         880   \n",
      "2             3       1072       1072                 2         525   \n",
      "3             3       1048       1048                 2         286   \n",
      "4             3       1779       1779                 2         546   \n",
      "...         ...        ...        ...               ...         ...   \n",
      "1087          3       1277       1277                 2         526   \n",
      "1088          3       1152       1152                 3         300   \n",
      "1089          3       1269       1269                 2         308   \n",
      "1090          3        605        605                 3           0   \n",
      "1091          3       1456       1456                 2         400   \n",
      "\n",
      "      TotRmsAbvGrd  LotFrontage  \n",
      "0                6         65.0  \n",
      "1                7         88.0  \n",
      "2                5         35.0  \n",
      "3                6         72.0  \n",
      "4                6         80.0  \n",
      "...            ...          ...  \n",
      "1087             5         85.0  \n",
      "1088             6         80.0  \n",
      "1089             6         70.0  \n",
      "1090             5         58.0  \n",
      "1091             8         51.0  \n",
      "\n",
      "[1092 rows x 7 columns]\n"
     ]
    }
   ],
   "source": [
    "y_train=train.SalePrice\n",
    "X_train=train.drop('SalePrice',axis=1)\n",
    "y_test=test.SalePrice\n",
    "X_test=test.drop('SalePrice',axis=1)\n",
    "print(X_test,X_train)"
   ]
  },
  {
   "cell_type": "code",
   "execution_count": 8,
   "metadata": {},
   "outputs": [
    {
     "data": {
      "text/plain": [
       "(1092, 7)"
      ]
     },
     "execution_count": 8,
     "metadata": {},
     "output_type": "execute_result"
    }
   ],
   "source": [
    "X_train.shape"
   ]
  },
  {
   "cell_type": "code",
   "execution_count": 9,
   "metadata": {},
   "outputs": [
    {
     "data": {
      "text/plain": [
       "(292, 7)"
      ]
     },
     "execution_count": 9,
     "metadata": {},
     "output_type": "execute_result"
    }
   ],
   "source": [
    "X_test.shape"
   ]
  },
  {
   "cell_type": "code",
   "execution_count": 10,
   "metadata": {},
   "outputs": [
    {
     "data": {
      "text/plain": [
       "0       169990\n",
       "1       369900\n",
       "2       140000\n",
       "3       135000\n",
       "4       197900\n",
       "         ...  \n",
       "1087    167000\n",
       "1088    158500\n",
       "1089    155000\n",
       "1090     86000\n",
       "1091    176000\n",
       "Name: SalePrice, Length: 1092, dtype: int64"
      ]
     },
     "execution_count": 10,
     "metadata": {},
     "output_type": "execute_result"
    }
   ],
   "source": [
    "y_train"
   ]
  },
  {
   "cell_type": "code",
   "execution_count": 11,
   "metadata": {},
   "outputs": [],
   "source": [
    "from sklearn.linear_model import LinearRegression"
   ]
  },
  {
   "cell_type": "code",
   "execution_count": 18,
   "metadata": {},
   "outputs": [],
   "source": [
    "# instantiate linear regression model\n",
    "linreg = LinearRegression()"
   ]
  },
  {
   "cell_type": "code",
   "execution_count": 19,
   "metadata": {},
   "outputs": [
    {
     "data": {
      "text/plain": [
       "LinearRegression(copy_X=True, fit_intercept=True, n_jobs=None, normalize=False)"
      ]
     },
     "execution_count": 19,
     "metadata": {},
     "output_type": "execute_result"
    }
   ],
   "source": [
    "# fit model on training data\n",
    "linreg.fit(X_train, np.log(y_train))"
   ]
  },
  {
   "cell_type": "code",
   "execution_count": 20,
   "metadata": {},
   "outputs": [],
   "source": [
    "# make predictions on test data\n",
    "y_pred = linreg.predict(X_test)"
   ]
  },
  {
   "cell_type": "code",
   "execution_count": 21,
   "metadata": {},
   "outputs": [
    {
     "data": {
      "text/plain": [
       "array([12.11227082, 12.19875709, 12.17873549, 12.09451926, 11.79496421,\n",
       "       11.62810742, 12.23094302, 11.66779875, 12.83933008, 11.42802489])"
      ]
     },
     "execution_count": 21,
     "metadata": {},
     "output_type": "execute_result"
    }
   ],
   "source": [
    "y_pred[:10]"
   ]
  },
  {
   "cell_type": "code",
   "execution_count": 22,
   "metadata": {},
   "outputs": [],
   "source": [
    "from sklearn.metrics import mean_absolute_error"
   ]
  },
  {
   "cell_type": "code",
   "execution_count": 23,
   "metadata": {},
   "outputs": [
    {
     "data": {
      "text/plain": [
       "array([182092.63418362, 198542.22728524, 194606.6236048 , 178888.72746131,\n",
       "       132583.0090395 , 112207.75818254, 205036.44464953, 116751.00081422,\n",
       "       376747.3483181 ,  91860.36123146, 460327.95870682,  97729.74158126,\n",
       "       156792.40078922, 190180.62155281, 139042.34275317, 133318.47254707,\n",
       "       113232.1746994 , 155923.39113754, 226679.4448331 , 195319.62079632,\n",
       "       166423.60598576, 166973.96886656, 206322.46879309, 143201.2236992 ,\n",
       "       254736.92862595, 309852.29663778, 260829.5440964 , 296045.43081478,\n",
       "       136159.16398597,  98862.5098973 , 131827.69389556, 551679.52419435,\n",
       "        99612.11566761, 143165.1936162 , 200082.38231768, 204923.57649053,\n",
       "       119454.47761295, 396330.4179059 , 128819.21984397, 220910.59197991,\n",
       "       219195.57999308, 118400.85810167, 380277.82916131, 158880.19719916,\n",
       "       264125.21879559, 171233.20367311, 128560.15813345, 119016.62335209,\n",
       "       209493.91440079, 205999.97213844,  99803.88439032, 323450.80255751,\n",
       "       132993.84861454, 134375.53204793, 172479.09727343, 360212.73140324,\n",
       "       190315.89814694, 166181.06237023, 108802.84898346, 299939.89193296,\n",
       "       194606.6236048 , 436012.3186996 , 198663.26430537,  88553.25724559,\n",
       "       148132.67531811, 134073.33479789, 133228.6560255 , 123640.66897062,\n",
       "       136109.50662823, 105490.38894855, 135854.50046878, 249412.07563362,\n",
       "       118344.49803643, 125200.35568404, 130919.48848742, 342239.57927388,\n",
       "       205537.40904158, 132452.99414013, 183175.18144331, 167792.59381283,\n",
       "       118499.6068096 , 184816.84038128, 148654.70294744, 219597.50288036,\n",
       "       256029.46639177, 182752.37955874, 144338.6554231 , 206945.85458635,\n",
       "       149858.3348    , 135715.84503516, 269993.11713989, 186748.74914721,\n",
       "       107981.43791212, 123792.80769542, 112937.57062193, 145045.62998457,\n",
       "       190092.17877966, 212331.76996632, 464879.34833136, 215747.83878995,\n",
       "       225651.4625553 , 139260.27555942, 152054.71734804, 119624.39103665,\n",
       "       120594.20473735, 182902.37466683, 272774.94537772, 289194.83613189,\n",
       "       225720.66267947, 151180.00861245, 118920.37134961, 234397.43528099,\n",
       "       175383.82278561, 130968.22234165,  83271.19682796, 124956.2619895 ,\n",
       "       304354.5979532 , 367250.69172847, 199047.5945433 , 272753.28018774,\n",
       "       202484.07614201, 291384.47554744, 122315.28156911, 145829.10065849,\n",
       "       157236.4703283 , 101524.39530915, 117614.10221915, 259842.58819613,\n",
       "       107745.38656281, 263473.65710681, 262662.98358476, 139875.64281462,\n",
       "       119517.11793745, 218317.07770832, 253651.06958963, 215462.21694147,\n",
       "       208792.56073795, 110546.77536168, 149472.91998694, 142686.367829  ,\n",
       "       114378.11431943, 295141.43742711, 191925.60882283, 138831.59890828,\n",
       "       173922.44666536, 152910.32815448, 226562.78965762, 121268.19304016,\n",
       "       112754.49703918, 145989.97168185, 137287.09701678, 147472.88937569,\n",
       "       198138.90621822, 140236.41088025, 412230.90845061, 160318.14549066,\n",
       "       106548.14609372, 107473.51603542,  99513.66270171, 147152.09391052,\n",
       "       170070.59244625, 170662.98935499, 156209.55294504, 202123.41506921,\n",
       "       117087.94943898, 120608.06947689, 243300.95888147, 247796.12021995,\n",
       "       100664.92586714, 133667.35678855, 225605.80168366, 183034.92052606,\n",
       "       164192.42973163, 152916.06295453, 162227.72747945, 181468.01036753,\n",
       "       512477.24436319, 140745.37962389, 112637.71124708, 126883.23406611,\n",
       "       133684.74863141, 328599.76921038, 190129.14653115, 152962.75403901,\n",
       "       183740.50633497, 233369.62312116, 136654.81627835, 163437.22535911,\n",
       "       175885.93673367, 136824.75657369,  93814.32876158, 194490.8023015 ,\n",
       "       170551.84297463, 106594.10956938, 116482.99455535, 138690.30371522,\n",
       "       163321.94121945, 100069.11762159, 354311.69520565, 155578.88826381,\n",
       "       245209.30140355, 176186.127632  , 318476.25408142, 150069.33947247,\n",
       "       194053.89603881, 140638.48987859, 127822.80672811,  95621.23340205,\n",
       "       139452.27048266, 154567.76187694, 533133.50668737, 284350.51411161,\n",
       "       120734.76854548, 265336.65896966, 283244.24923545, 129539.95022143,\n",
       "       213456.00505156, 187431.89439885, 119816.17583097, 152205.89504814,\n",
       "       125303.01500996, 429466.06188804, 111901.57177586, 108322.98257182,\n",
       "       233626.28012149, 189091.68973668, 121949.22479074, 214077.66702732,\n",
       "       143491.27411198, 129978.62572396, 202718.16784794, 217192.31249068,\n",
       "       182578.58057723, 122019.07298913, 226955.35944359, 172062.99488875,\n",
       "       329962.04197315, 286959.65787075, 245243.3582164 , 161912.2853314 ,\n",
       "       197571.76889473, 140155.80463356, 137909.58152631, 159002.33288731,\n",
       "       100091.75529746, 246620.66609055, 124269.41549463, 170865.64533343,\n",
       "       267255.90931626, 182586.02145683, 140469.04381927, 152543.97463701,\n",
       "       183576.97240805, 139243.31960668, 213546.61326321, 292755.13741962,\n",
       "       159145.87776419, 246793.5260798 , 103526.80810359, 338894.30181934,\n",
       "       119494.62089029, 120873.59201832, 330120.67990443, 213910.24167623,\n",
       "       189451.68640437, 186534.30951539, 149560.17435825, 208172.36556867,\n",
       "       194453.07780851, 344330.93775902, 142068.02661349, 128508.51284092,\n",
       "       159899.92715697, 249549.7616087 , 216942.4353468 , 400479.76659834,\n",
       "       165356.14816338, 150988.4248319 , 117854.89362452, 107559.5796453 ,\n",
       "       156217.01515754, 126106.81463792, 146481.67115085, 128151.61228589,\n",
       "       175708.07524365, 120504.98544302, 157283.42084248, 358320.19413607,\n",
       "       281791.82544737, 178514.151007  , 210034.32482131, 110659.80306314])"
      ]
     },
     "execution_count": 23,
     "metadata": {},
     "output_type": "execute_result"
    }
   ],
   "source": [
    "np.exp(y_pred)"
   ]
  },
  {
   "cell_type": "code",
   "execution_count": null,
   "metadata": {},
   "outputs": [],
   "source": [
    "# MAE calculation\n",
    "mae=mean_absolute_error(y_test,np.exp(y_pred))"
   ]
  }
 ],
 "metadata": {
  "kernelspec": {
   "display_name": "Python 3",
   "language": "python",
   "name": "python3"
  },
  "language_info": {
   "codemirror_mode": {
    "name": "ipython",
    "version": 3
   },
   "file_extension": ".py",
   "mimetype": "text/x-python",
   "name": "python",
   "nbconvert_exporter": "python",
   "pygments_lexer": "ipython3",
   "version": "3.7.3"
  }
 },
 "nbformat": 4,
 "nbformat_minor": 2
}
